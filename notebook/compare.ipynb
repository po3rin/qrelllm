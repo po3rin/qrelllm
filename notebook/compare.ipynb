{
 "cells": [
  {
   "cell_type": "code",
   "execution_count": 1,
   "metadata": {},
   "outputs": [],
   "source": [
    "import os\n",
    "\n",
    "from scipy import stats\n",
    "import gokart\n",
    "\n",
    "from qrelllm.queries import LoadQueries\n",
    "from qrelllm.llm.vertex import TestCollection"
   ]
  },
  {
   "cell_type": "code",
   "execution_count": null,
   "metadata": {},
   "outputs": [],
   "source": [
    "project = os.getenv(\"GOOGLE_CLOUD_PROJECT_ID\")\n",
    "location = os.getenv(\"GOOGLE_CLOUD_LOCATION\")"
   ]
  },
  {
   "cell_type": "code",
   "execution_count": null,
   "metadata": {},
   "outputs": [],
   "source": [
    "list1 = []"
   ]
  },
  {
   "cell_type": "code",
   "execution_count": null,
   "metadata": {},
   "outputs": [],
   "source": [
    "queries = LoadQueries(csv_file_path=\"../data/queries.csv\")\n",
    "testcollection = TestCollection(\n",
    "    project=project,\n",
    "    location=location,\n",
    "    queries=queries,\n",
    "    size=300\n",
    ")\n",
    "list2 = gokart.build(testcollection)['title'].to_list()\n"
   ]
  },
  {
   "cell_type": "code",
   "execution_count": 3,
   "metadata": {},
   "outputs": [
    {
     "name": "stdout",
     "output_type": "stream",
     "text": [
      "t_value: 5.0\n",
      "p_value: 0.013172093069677026\n",
      "p = 0.013 のため、帰無仮説が棄却されました。AとBに差があります\n"
     ]
    }
   ],
   "source": [
    "len_list1 = [len(v) for v in list1]\n",
    "len_list2 = [len(v) for v in list2]\n",
    "\n",
    "t_value, p_value = stats.ttest_ind(len_list1, len_list2, equal_var=False)\n",
    "print(\"t_value:\", t_value)\n",
    "print(\"p_value:\", p_value)\n",
    " \n",
    "if p_value < 0.025:\n",
    "    print(f\"p = {p_value:.3f} のため、帰無仮説が棄却されました。AとBに差があります\")\n",
    "else:\n",
    "    print(f\"{p_value:.3f} のため、帰無仮説が採択されました。AとBに差はありません\")"
   ]
  }
 ],
 "metadata": {
  "kernelspec": {
   "display_name": ".venv",
   "language": "python",
   "name": "python3"
  },
  "language_info": {
   "codemirror_mode": {
    "name": "ipython",
    "version": 3
   },
   "file_extension": ".py",
   "mimetype": "text/x-python",
   "name": "python",
   "nbconvert_exporter": "python",
   "pygments_lexer": "ipython3",
   "version": "3.12.2"
  }
 },
 "nbformat": 4,
 "nbformat_minor": 2
}
