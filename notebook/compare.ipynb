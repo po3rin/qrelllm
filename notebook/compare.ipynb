{
 "cells": [
  {
   "cell_type": "code",
   "execution_count": 28,
   "metadata": {},
   "outputs": [],
   "source": [
    "import os\n",
    "\n",
    "from scipy import stats\n",
    "import gokart\n",
    "\n",
    "# from qrelllm.queries import LoadQueries\n",
    "# from qrelllm.llm.vertex import TestCollection\n",
    "from qrelllm.load_titles import LoadActualDocuments, LoadTestCollection\n"
   ]
  },
  {
   "cell_type": "code",
   "execution_count": 29,
   "metadata": {},
   "outputs": [],
   "source": [
    "project = os.getenv(\"GOOGLE_CLOUD_PROJECT_ID\")\n",
    "location = os.getenv(\"GOOGLE_CLOUD_LOCATION\")"
   ]
  },
  {
   "cell_type": "code",
   "execution_count": 30,
   "metadata": {},
   "outputs": [],
   "source": [
    "list1 = gokart.build(LoadActualDocuments(rerun=True))['title'].to_list()"
   ]
  },
  {
   "cell_type": "code",
   "execution_count": 31,
   "metadata": {},
   "outputs": [],
   "source": [
    "list2 = gokart.build(LoadTestCollection(rerun=True))['title'].to_list()\n"
   ]
  },
  {
   "cell_type": "code",
   "execution_count": 32,
   "metadata": {},
   "outputs": [
    {
     "name": "stdout",
     "output_type": "stream",
     "text": [
      "t_value: 16.50084989189754\n",
      "p_value: 2.8664861494550364e-59\n"
     ]
    }
   ],
   "source": [
    "len_list1 = [len(v) for v in list1]\n",
    "len_list2 = [len(v) for v in list2]\n",
    "\n",
    "mean_list1 = sum(len_list1) / len(len_list1)\n",
    "\n",
    "t_value, p_value = stats.ttest_ind(len_list1, len_list2, equal_var=False)\n",
    "print(\"t_value:\", t_value)\n",
    "print(\"p_value:\", p_value)\n"
   ]
  },
  {
   "cell_type": "code",
   "execution_count": 34,
   "metadata": {},
   "outputs": [
    {
     "name": "stdout",
     "output_type": "stream",
     "text": [
      "16.5845\n",
      "2000\n"
     ]
    }
   ],
   "source": [
    "print(sum(len_list1) / len(len_list1))\n",
    "print(len(len_list1))"
   ]
  },
  {
   "cell_type": "code",
   "execution_count": 35,
   "metadata": {},
   "outputs": [
    {
     "name": "stdout",
     "output_type": "stream",
     "text": [
      "13.227830188679246\n",
      "2120\n"
     ]
    }
   ],
   "source": [
    "print(sum(len_list2) / len(len_list2))\n",
    "print(len(len_list2))"
   ]
  }
 ],
 "metadata": {
  "kernelspec": {
   "display_name": ".venv",
   "language": "python",
   "name": "python3"
  },
  "language_info": {
   "codemirror_mode": {
    "name": "ipython",
    "version": 3
   },
   "file_extension": ".py",
   "mimetype": "text/x-python",
   "name": "python",
   "nbconvert_exporter": "python",
   "pygments_lexer": "ipython3",
   "version": "3.12.1"
  }
 },
 "nbformat": 4,
 "nbformat_minor": 2
}
