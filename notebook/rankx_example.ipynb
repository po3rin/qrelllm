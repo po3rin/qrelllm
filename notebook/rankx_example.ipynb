{
 "cells": [
  {
   "cell_type": "code",
   "execution_count": null,
   "metadata": {},
   "outputs": [],
   "source": [
    "from ranx import Qrels, Run, evaluate, compare\n",
    "\n",
    "qrels_dict = {\n",
    "    \"q_1\": { \"d_1\": 2, \"d_2\": 1, \"d_3\": 0},\n",
    "    \"q_2\": { \"d_4\": 2, \"d_5\": 1, \"d_6\": 0}\n",
    "}\n",
    "\n",
    "run_1 = {\n",
    "    \"q_1\": { \"d_7\": 2, \"d_2\": 1, \"d_1\": 0},\n",
    "    \"q_2\": { \"d_9\": 2, \"d_6\": 1, \"d_5\": 0}\n",
    "}\n",
    "\n",
    "run_2 = {\n",
    "    \"q_1\": { \"d_3\": 2, \"d_2\": 1, \"d_1\": 0},\n",
    "    \"q_2\": { \"d_4\": 2, \"d_6\": 1, \"d_5\": 0}\n",
    "}\n",
    "\n",
    "run_3 = {\n",
    "    \"q_1\": { \"d_1\": 2, \"d_2\": 1, \"d_3\": 0},\n",
    "    \"q_2\": { \"d_4\": 2, \"d_5\": 1, \"d_5\": 0}\n",
    "}\n",
    "\n",
    "run_4 = {\n",
    "    \"q_1\": { \"d_10\": 2, \"d_11\": 1, \"d_12\": 0},\n",
    "    \"q_2\": { \"d_13\": 2, \"d_14\": 1, \"d_15\": 0}\n",
    "}\n",
    "\n",
    "qrels = Qrels(qrels_dict)\n",
    "run_1 = Run(run_1)\n",
    "run_2 = Run(run_2)\n",
    "run_3 = Run(run_3)\n",
    "run_4 = Run(run_4)"
   ]
  },
  {
   "cell_type": "code",
   "execution_count": null,
   "metadata": {},
   "outputs": [],
   "source": [
    "from ranx import compare\n",
    "\n",
    "# 異なる実行結果を比較し、両側t検定を実行します。\n",
    "report = compare(\n",
    "    qrels=qrels,\n",
    "    runs=[run_1, run_2, run_3, run_4],\n",
    "    metrics=[\"map@100\", \"ndcg@10\"],\n",
    "    max_p=0.05\n",
    ")"
   ]
  },
  {
   "cell_type": "code",
   "execution_count": null,
   "metadata": {},
   "outputs": [],
   "source": [
    "report"
   ]
  }
 ],
 "metadata": {
  "kernelspec": {
   "display_name": ".venv",
   "language": "python",
   "name": "python3"
  },
  "language_info": {
   "codemirror_mode": {
    "name": "ipython",
    "version": 3
   },
   "file_extension": ".py",
   "mimetype": "text/x-python",
   "name": "python",
   "nbconvert_exporter": "python",
   "pygments_lexer": "ipython3",
   "version": "3.12.2"
  }
 },
 "nbformat": 4,
 "nbformat_minor": 2
}
