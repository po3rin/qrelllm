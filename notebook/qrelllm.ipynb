{
 "cells": [
  {
   "cell_type": "code",
   "execution_count": null,
   "metadata": {},
   "outputs": [],
   "source": [
    "import os\n",
    "import sys\n",
    "import gokart\n",
    "from elasticsearch import Elasticsearch\n",
    "\n",
    "from qrelllm.eval import ndcg_compare_report\n",
    "from qrelllm.queries import LoadQueries\n",
    "from qrelllm.llm.vertex import TestCollection\n",
    "from qrelllm.llm.openai import RelDecision\n",
    "from qrelllm.eval import CohenKappa\n",
    "from qrelllm.format import format_test_collection\n",
    "from qrelllm.es.es import ping, index, run_with_kuromoji, run_with_ngram"
   ]
  },
  {
   "cell_type": "code",
   "execution_count": null,
   "metadata": {},
   "outputs": [],
   "source": [
    "project = os.getenv(\"GOOGLE_CLOUD_PROJECT_ID\")\n",
    "location = os.getenv(\"GOOGLE_CLOUD_LOCATION\")"
   ]
  },
  {
   "cell_type": "markdown",
   "metadata": {},
   "source": [
    "## テストコレクション生成"
   ]
  },
  {
   "cell_type": "code",
   "execution_count": null,
   "metadata": {},
   "outputs": [],
   "source": [
    "index_name = \"docs\"\n",
    "client = Elasticsearch(hosts=[\"http://localhost:9200\"])\n",
    "ping(client)\n",
    "\n",
    "queries = LoadQueries(csv_file_path=\"../data/queries.csv\")\n",
    "testcollection = TestCollection(\n",
    "    project=project,\n",
    "    location=location,\n",
    "    queries=queries,\n",
    "    size=300\n",
    ")\n"
   ]
  },
  {
   "cell_type": "markdown",
   "metadata": {},
   "source": [
    "## 文字列統計量の比較"
   ]
  },
  {
   "cell_type": "code",
   "execution_count": null,
   "metadata": {},
   "outputs": [],
   "source": [
    "# compare.ipynbへ"
   ]
  },
  {
   "cell_type": "markdown",
   "metadata": {},
   "source": [
    "## 判定者間不一致の評価"
   ]
  },
  {
   "cell_type": "code",
   "execution_count": null,
   "metadata": {},
   "outputs": [],
   "source": [
    "testcollection_a = testcollection\n",
    "testcollection_b = RelDecision(testcollection=testcollection_a)\n",
    "\n",
    "gokart.build(CohenKappa(testcollection_a=testcollection_a, testcollection_b=testcollection_b, rerun=True))"
   ]
  },
  {
   "cell_type": "markdown",
   "metadata": {},
   "source": [
    "## オフライン評価"
   ]
  },
  {
   "cell_type": "code",
   "execution_count": null,
   "metadata": {},
   "outputs": [],
   "source": [
    "df = gokart.build(testcollection)\n",
    "df = format_test_collection(df)\n",
    "\n",
    "index(client, df)\n",
    "\n",
    "run1_df = run_with_ngram(client, index_name, df)\n",
    "run2_df = run_with_kuromoji(client, index_name, df)\n",
    "report = ndcg_compare_report(df, run1_df, run2_df)\n",
    "print(report)"
   ]
  },
  {
   "cell_type": "code",
   "execution_count": null,
   "metadata": {},
   "outputs": [],
   "source": [
    "report_dict = report.to_dict()\n",
    "score_a = report_dict['run_1'][\"scores\"][\"ndcg@10\"]\n",
    "score_b = report_dict['run_2'][\"scores\"][\"ndcg@10\"]\n",
    "p_value = report_dict['run_1']['comparisons']['run_2'][\"ndcg@10\"]\n",
    "\n",
    "# score_bがscore_aに有意に負けてたら落とす\n",
    "if score_a > score_b and p_value < 0.05:\n",
    "    print(report)\n",
    "    sys.exit(1)"
   ]
  }
 ],
 "metadata": {
  "kernelspec": {
   "display_name": ".venv",
   "language": "python",
   "name": "python3"
  },
  "language_info": {
   "codemirror_mode": {
    "name": "ipython",
    "version": 3
   },
   "file_extension": ".py",
   "mimetype": "text/x-python",
   "name": "python",
   "nbconvert_exporter": "python",
   "pygments_lexer": "ipython3",
   "version": "3.12.2"
  }
 },
 "nbformat": 4,
 "nbformat_minor": 2
}
