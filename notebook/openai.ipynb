{
 "cells": [
  {
   "cell_type": "code",
   "execution_count": null,
   "metadata": {},
   "outputs": [],
   "source": [
    "import json\n",
    "import random\n",
    "\n",
    "import gokart\n",
    "import luigi\n",
    "import pandas as pd\n",
    "from openai import OpenAI"
   ]
  },
  {
   "cell_type": "code",
   "execution_count": null,
   "metadata": {},
   "outputs": [],
   "source": [
    "\n",
    "def load_queries():\n",
    "  with open('../data/queries.csv', 'r') as f:\n",
    "    return [line for line in f.readlines()]"
   ]
  },
  {
   "cell_type": "code",
   "execution_count": null,
   "metadata": {},
   "outputs": [],
   "source": [
    "\n",
    "class TestCollection(gokart.TaskOnKart):\n",
    "  \"\"\"\n",
    "  与えられたクエリに関連する記事タイトルと関連のない記事タイトルを生成するタスク\n",
    "  \"\"\"\n",
    "\n",
    "  size: int = luigi.IntParameter(default=200)\n",
    "\n",
    "  def run(self):\n",
    "    client = OpenAI()\n",
    "\n",
    "    queries = load_queries()\n",
    "    queries = random.sample(queries, self.size)\n",
    "\n",
    "    results = []\n",
    "    for q in queries:\n",
    "      completion = client.chat.completions.create(\n",
    "        model='gpt-3.5-turbo',\n",
    "        messages=[\n",
    "          {\n",
    "              'role': 'system',\n",
    "              'content': f'''\n",
    "              「{q}」という医療系の検索クエリに関係のある記事タイトルと関係のない記事タイトルを10件作成し、クエリとの関連度を0~2の3段階で付与してください。\n",
    "              関連度0はクエリと全く関係のないタイトル、関連度1は直接の関連はないが部分的、または間接的に関係のあるタイトル、関連度2はクエリと直接関係のあるタイトルとします。\n",
    "              関連度は0,1,2全て満遍なく出現するようにしてください。\n",
    "              結果は、以下のようなJSON形式で提出してください。\n",
    "              [{{“query”: “クエリの内容“, “title”: “クエリと関連のある記事タイトル“, “score”: 2, “reason”: “理由“}}]\n",
    "              '''\n",
    "          }\n",
    "        ]\n",
    "      )\n",
    "\n",
    "      md_str = completion.choices[0].message.content\n",
    "      json_str = md_str.removeprefix('```json').removesuffix('```').replace('\\n', '').replace(' ', '')\n",
    "      result = json.loads(json_str)\n",
    "      results.extend(result)\n",
    "\n",
    "    df = pd.DataFrame(results)\n",
    "    self.dump(df)\n",
    "\n",
    "\n",
    "def main():\n",
    "  df = gokart.build(TestCollection(size=10))\n",
    "  df.to_csv('../data/dataset_openai.csv', index=False)\n",
    "\n",
    "\n",
    "if __name__ == '__main__':\n",
    "  main()"
   ]
  }
 ],
 "metadata": {
  "kernelspec": {
   "display_name": "Python 3",
   "language": "python",
   "name": "python3"
  },
  "language_info": {
   "codemirror_mode": {
    "name": "ipython",
    "version": 3
   },
   "file_extension": ".py",
   "mimetype": "text/x-python",
   "name": "python",
   "nbconvert_exporter": "python",
   "pygments_lexer": "ipython3",
   "version": "3.12.2"
  }
 },
 "nbformat": 4,
 "nbformat_minor": 2
}
