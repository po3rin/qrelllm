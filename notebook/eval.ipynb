{
 "cells": [
  {
   "cell_type": "code",
   "execution_count": null,
   "metadata": {},
   "outputs": [],
   "source": [
    "import os\n",
    "import gokart\n",
    "from elasticsearch import Elasticsearch\n",
    "\n",
    "from qrelllm.eval import ndcg_compare_report\n",
    "from qrelllm.queries import LoadQueries\n",
    "from qrelllm.llm.vertex import TestCollection\n",
    "from qrelllm.format import format_test_collection\n",
    "from qrelllm.es.es import ping, index, run_with_kuromoji, run_with_ngram"
   ]
  },
  {
   "cell_type": "code",
   "execution_count": null,
   "metadata": {},
   "outputs": [],
   "source": [
    "project = os.getenv(\"GOOGLE_CLOUD_PROJECT_ID\")\n",
    "location = os.getenv(\"GOOGLE_CLOUD_LOCATION\")"
   ]
  },
  {
   "cell_type": "code",
   "execution_count": null,
   "metadata": {},
   "outputs": [],
   "source": [
    "index_name = \"docs\"\n",
    "client = Elasticsearch(hosts=[\"http://localhost:9200\"])\n",
    "ping(client)\n",
    "\n",
    "queries = LoadQueries(csv_file_path=\"../data/queries.csv\")\n",
    "testcollection = TestCollection(\n",
    "    project=project,\n",
    "    location=location,\n",
    "    queries=queries,\n",
    "    size=300\n",
    ")\n",
    "df = gokart.build(testcollection)\n",
    "df = format_test_collection(df)\n",
    "\n",
    "index(client, df)\n",
    "\n",
    "run1_df = run_with_ngram(client, index_name, df)\n",
    "run2_df = run_with_kuromoji(client, index_name, df)\n",
    "\n",
    "ndcg_compare_report(df, run1_df, run2_df)"
   ]
  }
 ],
 "metadata": {
  "language_info": {
   "name": "python"
  }
 },
 "nbformat": 4,
 "nbformat_minor": 2
}
