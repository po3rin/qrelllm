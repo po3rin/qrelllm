{
 "cells": [
  {
   "cell_type": "code",
   "execution_count": null,
   "metadata": {},
   "outputs": [],
   "source": [
    "import json\n",
    "import os\n",
    "\n",
    "import gokart\n",
    "import luigi\n",
    "import pandas as pd\n",
    "from openai import OpenAI\n",
    "from tqdm import tqdm\n",
    "from qrelllm.llm.prompt import gen_rel_prompt\n",
    "from qrelllm.eval import CohenKappa\n",
    "from qrelllm.queries import LoadQueries\n",
    "from qrelllm.format import clean_json\n",
    "from qrelllm.llm.vertex import TestCollection\n",
    "from qrelllm.load import LoadTestCollection"
   ]
  },
  {
   "cell_type": "code",
   "execution_count": null,
   "metadata": {},
   "outputs": [],
   "source": [
    "\n",
    "\n",
    "class RelDecision(gokart.TaskOnKart):\n",
    "    \"\"\"\n",
    "    与えられたクエリに関連する記事タイトルと関連のない記事タイトルを生成するタスク\n",
    "    \"\"\"\n",
    "\n",
    "    testcollection = gokart.TaskInstanceParameter()\n",
    "    _version: int = luigi.Parameter(default=1)\n",
    "\n",
    "    def run(self):\n",
    "        df = self.load_data_frame(required_columns={\"query\", \"title\"})\n",
    "\n",
    "        client = OpenAI()\n",
    "\n",
    "        df = df.groupby(\"query\")[\"title\"].apply(list) \\\n",
    "            .reset_index(name=\"titles\")\n",
    "        d = dict(zip(df[\"query\"], df[\"titles\"]))\n",
    "\n",
    "        results = []\n",
    "        errors = []\n",
    "        for k, v in tqdm(d.items()):\n",
    "            completion = client.chat.completions.create(\n",
    "                model=\"gpt-3.5-turbo\",\n",
    "                messages=[\n",
    "                    {\n",
    "                        \"role\": \"system\",\n",
    "                        \"content\": gen_rel_prompt(k, v)\n",
    "                    }\n",
    "                ]\n",
    "            )\n",
    "\n",
    "            md_str = completion.choices[0].message.content\n",
    "            \n",
    "            json_str = clean_json(md_str)\n",
    "            try:\n",
    "                result = json.loads(json_str)\n",
    "            except Exception as e:\n",
    "                errors.append(json_str)\n",
    "                continue\n",
    "            results.extend(result)\n",
    "\n",
    "        df = pd.DataFrame(results)\n",
    "        print(f\"{len(errors)} errors\")\n",
    "        self.dump(df)\n",
    "\n"
   ]
  },
  {
   "cell_type": "code",
   "execution_count": null,
   "metadata": {},
   "outputs": [],
   "source": [
    "testcollection = LoadTestCollection(rerun=True)\n",
    "df = gokart.build(RelDecision(testcollection=testcollection))"
   ]
  },
  {
   "cell_type": "code",
   "execution_count": null,
   "metadata": {},
   "outputs": [],
   "source": [
    "df.to_csv(\"../data/rel.csv\", index=False)"
   ]
  },
  {
   "cell_type": "code",
   "execution_count": null,
   "metadata": {},
   "outputs": [],
   "source": [
    "testcollection_a = testcollection\n",
    "testcollection_b = RelDecision(testcollection=testcollection_a)\n",
    "\n",
    "gokart.build(CohenKappa(testcollection_a=testcollection_a, testcollection_b=testcollection_b, rerun=True))"
   ]
  }
 ],
 "metadata": {
  "kernelspec": {
   "display_name": ".venv",
   "language": "python",
   "name": "python3"
  },
  "language_info": {
   "codemirror_mode": {
    "name": "ipython",
    "version": 3
   },
   "file_extension": ".py",
   "mimetype": "text/x-python",
   "name": "python",
   "nbconvert_exporter": "python",
   "pygments_lexer": "ipython3",
   "version": "3.12.2"
  }
 },
 "nbformat": 4,
 "nbformat_minor": 2
}
