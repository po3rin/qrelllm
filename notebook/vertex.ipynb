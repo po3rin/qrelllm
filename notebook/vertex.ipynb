{
 "cells": [
  {
   "cell_type": "code",
   "execution_count": null,
   "metadata": {},
   "outputs": [],
   "source": [
    "import json\n",
    "import os\n",
    "\n",
    "import gokart\n",
    "import luigi\n",
    "import pandas as pd\n",
    "import vertexai\n",
    "from tqdm import tqdm\n",
    "from vertexai.language_models import TextGenerationModel\n",
    "from qrelllm.llm.prompt import gen_rel_prompt\n",
    "from qrelllm.eval import CohenKappa\n",
    "from qrelllm.queries import LoadQueries\n",
    "from qrelllm.format import clean_json\n",
    "from qrelllm.llm.vertex import TestCollection"
   ]
  },
  {
   "cell_type": "code",
   "execution_count": null,
   "metadata": {},
   "outputs": [],
   "source": [
    "project = os.getenv(\"GOOGLE_CLOUD_PROJECT_ID\")\n",
    "location = os.getenv(\"GOOGLE_CLOUD_LOCATION\")"
   ]
  },
  {
   "cell_type": "code",
   "execution_count": null,
   "metadata": {},
   "outputs": [],
   "source": [
    "\n",
    "\n",
    "class RelDecision(gokart.TaskOnKart):\n",
    "    \"\"\"\n",
    "    与えられたクエリに関連する記事タイトルと関連のない記事タイトルを生成するタスク\n",
    "    \"\"\"\n",
    "\n",
    "    testcollection = gokart.TaskInstanceParameter()\n",
    "    _version: int = luigi.Parameter(default=1)\n",
    "\n",
    "    def run(self):\n",
    "        df = self.load_data_frame(required_columns={'query', 'title'})\n",
    "\n",
    "        vertexai.init(project=project, location=location)\n",
    "        parameters = {\n",
    "            \"temperature\": 1.0,\n",
    "            \"max_output_tokens\": 1000,\n",
    "            \"top_p\": 0.8,\n",
    "            \"top_k\": 40,\n",
    "        }\n",
    "\n",
    "        model = TextGenerationModel.from_pretrained(\"text-bison@002\")\n",
    "\n",
    "        results = []\n",
    "        errors = []\n",
    "\n",
    "        df = df.groupby('query')['title'].apply(list).reset_index(name='titles')\n",
    "        d = dict(zip(df['query'], df['titles']))\n",
    "        for k, v in tqdm(d.items()):\n",
    "            response = model.predict(\n",
    "                gen_rel_prompt(k, v),\n",
    "                **parameters,\n",
    "            )\n",
    "\n",
    "            json_str = clean_json(response.text)\n",
    "            json_str = clean_json(json_str)\n",
    "            try:\n",
    "                result = json.loads(json_str)\n",
    "            except Exception as e:\n",
    "                errors.append(json_str)\n",
    "                continue\n",
    "            results.extend(result)\n",
    "\n",
    "        df = pd.DataFrame(results)\n",
    "        print(f'{len(errors)} errors')\n",
    "        self.dump(df)\n",
    "\n"
   ]
  },
  {
   "cell_type": "code",
   "execution_count": null,
   "metadata": {},
   "outputs": [],
   "source": [
    "queries = LoadQueries(csv_file_path=\"../data/queries.csv\")\n",
    "testcollection = TestCollection(\n",
    "    project=project,\n",
    "    location=location,\n",
    "    queries=queries,\n",
    "    size=300\n",
    ")\n",
    "df = gokart.build(RelDecision(testcollection=testcollection, rerun=True))"
   ]
  },
  {
   "cell_type": "code",
   "execution_count": null,
   "metadata": {},
   "outputs": [],
   "source": [
    "df.to_csv(\"../data/rel.csv\", index=False)"
   ]
  },
  {
   "cell_type": "code",
   "execution_count": null,
   "metadata": {},
   "outputs": [],
   "source": [
    "testcollection_a = testcollection\n",
    "testcollection_b = RelDecision(testcollection=testcollection_a, rerun=True)\n",
    "\n",
    "gokart.build(CohenKappa(testcollection_a=testcollection_a, testcollection_b=testcollection_b, rerun=True))"
   ]
  }
 ],
 "metadata": {
  "kernelspec": {
   "display_name": ".venv",
   "language": "python",
   "name": "python3"
  },
  "language_info": {
   "codemirror_mode": {
    "name": "ipython",
    "version": 3
   },
   "file_extension": ".py",
   "mimetype": "text/x-python",
   "name": "python",
   "nbconvert_exporter": "python",
   "pygments_lexer": "ipython3",
   "version": "3.12.2"
  }
 },
 "nbformat": 4,
 "nbformat_minor": 2
}
